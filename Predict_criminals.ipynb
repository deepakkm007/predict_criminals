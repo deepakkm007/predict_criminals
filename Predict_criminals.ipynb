{
 "cells": [
  {
   "cell_type": "markdown",
   "metadata": {},
   "source": [
    "Import the necessary packages"
   ]
  },
  {
   "cell_type": "code",
   "execution_count": 1,
   "metadata": {
    "collapsed": true
   },
   "outputs": [],
   "source": [
    "import pandas as pd\n",
    "from sklearn.metrics import accuracy_score, precision_score\n",
    "from sklearn.model_selection import train_test_split"
   ]
  },
  {
   "cell_type": "markdown",
   "metadata": {},
   "source": [
    "Importing the dataset"
   ]
  },
  {
   "cell_type": "code",
   "execution_count": 2,
   "metadata": {
    "collapsed": true
   },
   "outputs": [],
   "source": [
    "dataset = pd.read_csv(\"C:/Users/Deepu/Desktop/Predict criminal/criminal_train.csv\")\n",
    "X = dataset.iloc[:, 0:71].values\n",
    "y = dataset.iloc[:, 71].values"
   ]
  },
  {
   "cell_type": "markdown",
   "metadata": {},
   "source": [
    "Splitting the dataset into the Training set and Test set"
   ]
  },
  {
   "cell_type": "code",
   "execution_count": 3,
   "metadata": {
    "collapsed": true
   },
   "outputs": [],
   "source": [
    "X_train, X_test, y_train, y_test = train_test_split(X, y, test_size = 0.15, stratify=y,random_state = 0)"
   ]
  },
  {
   "cell_type": "markdown",
   "metadata": {},
   "source": [
    "Applying Grid Search to find the best parameters"
   ]
  },
  {
   "cell_type": "code",
   "execution_count": 4,
   "metadata": {
    "collapsed": false
   },
   "outputs": [],
   "source": [
    "from sklearn.model_selection import GridSearchCV\n",
    "from xgboost import XGBClassifier\n",
    "parametersXGB = [{'max_depth': [2], 'booster': ['gbtree'], 'objective': ['binary:logistic'],\n",
    "                'gamma':[0.02,0.03],'n_estimators':[100],\n",
    "                'learning_rate':[0.05,0.06],'colsample_bylevel':[1],'colsample_bytree':[1],'subsample':[1]}]\n",
    "grid_searchXGB = GridSearchCV(estimator = XGBClassifier(),\n",
    "                           param_grid = parametersXGB,\n",
    "                           scoring = 'precision',\n",
    "                           cv = 15,\n",
    "                           n_jobs = -1)"
   ]
  },
  {
   "cell_type": "markdown",
   "metadata": {},
   "source": [
    " Fitting XGBoost to the Training set"
   ]
  },
  {
   "cell_type": "code",
   "execution_count": 5,
   "metadata": {
    "collapsed": true
   },
   "outputs": [],
   "source": [
    "grid_searchXGB = grid_searchXGB.fit(X_train, y_train)"
   ]
  },
  {
   "cell_type": "markdown",
   "metadata": {},
   "source": [
    "Refit the model if the parameters are changed"
   ]
  },
  {
   "cell_type": "code",
   "execution_count": 6,
   "metadata": {
    "collapsed": true
   },
   "outputs": [],
   "source": [
    "grid_searchXGB.refit\n",
    "y_pred=grid_searchXGB.predict(X_test)\n",
    "best_accuracyXGB = grid_searchXGB.best_score_ #gives the best accuracy that can be achieved for the testing data\n",
    "best_parametersXGB = grid_searchXGB.best_params_ #gives the best parameters that can be used from the given list of parameters "
   ]
  },
  {
   "cell_type": "code",
   "execution_count": 7,
   "metadata": {
    "collapsed": false
   },
   "outputs": [
    {
     "name": "stdout",
     "output_type": "stream",
     "text": [
      "Best possible accuracy that can be achieved for testing data :- 70.55%\n"
     ]
    }
   ],
   "source": [
    "print(\"Best possible accuracy that can be achieved for testing data :- %.2f%%\" %(best_accuracyXGB*100))"
   ]
  },
  {
   "cell_type": "code",
   "execution_count": 8,
   "metadata": {
    "collapsed": false
   },
   "outputs": [
    {
     "name": "stdout",
     "output_type": "stream",
     "text": [
      "Parameters that are good enough to achieve best precision :-\n",
      "  {'booster': 'gbtree', 'colsample_bylevel': 1, 'colsample_bytree': 1, 'gamma': 0.02, 'learning_rate': 0.06, 'max_depth': 2, 'n_estimators': 100, 'objective': 'binary:logistic', 'subsample': 1}\n"
     ]
    }
   ],
   "source": [
    "print(\"Parameters that are good enough to achieve best precision :-\\n \", best_parametersXGB)"
   ]
  },
  {
   "cell_type": "markdown",
   "metadata": {},
   "source": [
    "Calculate the accuracy and the precision score"
   ]
  },
  {
   "cell_type": "code",
   "execution_count": 9,
   "metadata": {
    "collapsed": true
   },
   "outputs": [],
   "source": [
    "accuracy=accuracy_score(y_true=y_test,y_pred=y_pred)\n",
    "precision=precision_score(y_true=y_test,y_pred=y_pred,average='binary')"
   ]
  },
  {
   "cell_type": "code",
   "execution_count": 10,
   "metadata": {
    "collapsed": false
   },
   "outputs": [
    {
     "name": "stdout",
     "output_type": "stream",
     "text": [
      "Accuracy Score: 95.10%\n"
     ]
    }
   ],
   "source": [
    "print(\"Accuracy Score: %.2f%%\" % (accuracy * 100.0))"
   ]
  },
  {
   "cell_type": "code",
   "execution_count": 11,
   "metadata": {
    "collapsed": false
   },
   "outputs": [
    {
     "name": "stdout",
     "output_type": "stream",
     "text": [
      "Precison Score: 75.18%\n"
     ]
    }
   ],
   "source": [
    "print(\"Precison Score: %.2f%%\" % (precision * 100.0))"
   ]
  },
  {
   "cell_type": "markdown",
   "metadata": {},
   "source": [
    "Create the Confusion Matrix"
   ]
  },
  {
   "cell_type": "code",
   "execution_count": 12,
   "metadata": {
    "collapsed": true
   },
   "outputs": [],
   "source": [
    "from sklearn.metrics import confusion_matrix\n",
    "confusion_XGB = confusion_matrix(y_test, y_pred)"
   ]
  },
  {
   "cell_type": "code",
   "execution_count": 13,
   "metadata": {
    "collapsed": false
   },
   "outputs": [
    {
     "name": "stdout",
     "output_type": "stream",
     "text": [
      "[[6313   69]\n",
      " [ 267  209]]\n"
     ]
    }
   ],
   "source": [
    "print('Confusion matrix for the trained model :-\\n',confusion_XGB)"
   ]
  },
  {
   "cell_type": "markdown",
   "metadata": {},
   "source": [
    "Read the out-of-sample data (Testing Data)"
   ]
  },
  {
   "cell_type": "code",
   "execution_count": 14,
   "metadata": {
    "collapsed": true
   },
   "outputs": [],
   "source": [
    "new_data=pd.read_csv(\"C:/Users/Deepu/Desktop/Predict criminal/criminal_test.csv\")\n",
    "X_new=new_data.iloc[:,:].values"
   ]
  },
  {
   "cell_type": "markdown",
   "metadata": {},
   "source": [
    "Predict on the new data using the trained classifier"
   ]
  },
  {
   "cell_type": "code",
   "execution_count": 15,
   "metadata": {
    "collapsed": true
   },
   "outputs": [],
   "source": [
    "new_pred=grid_searchXGB.predict(X_new)"
   ]
  },
  {
   "cell_type": "markdown",
   "metadata": {},
   "source": [
    "Export the predicted data to CSV and rearrange the columns"
   ]
  },
  {
   "cell_type": "code",
   "execution_count": 16,
   "metadata": {
    "collapsed": true
   },
   "outputs": [],
   "source": [
    "results = pd.DataFrame(new_pred)\n",
    "results.columns = [\"Criminal\"]\n",
    "results['PERID']=new_data['PERID']\n",
    "ColumnTitles=['PERID','Criminal']\n",
    "results=results.reindex(columns=ColumnTitles)\n",
    "results.to_csv(\"submission.csv\",index=False)"
   ]
  }
 ],
 "metadata": {
  "kernelspec": {
   "display_name": "Python 3",
   "language": "python",
   "name": "python3"
  },
  "language_info": {
   "codemirror_mode": {
    "name": "ipython",
    "version": 3
   },
   "file_extension": ".py",
   "mimetype": "text/x-python",
   "name": "python",
   "nbconvert_exporter": "python",
   "pygments_lexer": "ipython3",
   "version": "3.6.0"
  }
 },
 "nbformat": 4,
 "nbformat_minor": 2
}
